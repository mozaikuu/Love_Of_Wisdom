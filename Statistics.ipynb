{
 "cells": [
  {
   "cell_type": "code",
   "execution_count": 1,
   "metadata": {},
   "outputs": [],
   "source": [
    "import pandas as pd\n",
    "import matplotlib.pyplot as plt\n",
    "import seaborn as sns"
   ]
  },
  {
   "cell_type": "code",
   "execution_count": 2,
   "metadata": {},
   "outputs": [
    {
     "data": {
      "text/plain": [
       "0        565\n",
       "1        362\n",
       "2        335\n",
       "3        210\n",
       "4        633\n",
       "        ... \n",
       "49995    928\n",
       "49996    986\n",
       "49997    974\n",
       "49998    570\n",
       "49999    703\n",
       "Name: reaction_speed(in_ms), Length: 50000, dtype: int64"
      ]
     },
     "execution_count": 2,
     "metadata": {},
     "output_type": "execute_result"
    }
   ],
   "source": [
    "dfm = pd.read_csv('./Datasets/Fake_Shocking_medium(50000)_dataset.csv')\n",
    "df_nd = pd.read_csv('./Datasets/ND(50000)_dataset.csv')\n",
    "\n",
    "dfm_RS = dfm['reaction_speed(in_ms)']\n",
    "\n",
    "dfm_RS"
   ]
  },
  {
   "cell_type": "code",
   "execution_count": 3,
   "metadata": {},
   "outputs": [
    {
     "data": {
      "text/html": [
       "<div>\n",
       "<style scoped>\n",
       "    .dataframe tbody tr th:only-of-type {\n",
       "        vertical-align: middle;\n",
       "    }\n",
       "\n",
       "    .dataframe tbody tr th {\n",
       "        vertical-align: top;\n",
       "    }\n",
       "\n",
       "    .dataframe thead th {\n",
       "        text-align: right;\n",
       "    }\n",
       "</style>\n",
       "<table border=\"1\" class=\"dataframe\">\n",
       "  <thead>\n",
       "    <tr style=\"text-align: right;\">\n",
       "      <th></th>\n",
       "      <th>reaction_speed(in_ms)_tot</th>\n",
       "    </tr>\n",
       "  </thead>\n",
       "  <tbody>\n",
       "    <tr>\n",
       "      <th>0</th>\n",
       "      <td>25056321</td>\n",
       "    </tr>\n",
       "    <tr>\n",
       "      <th>1</th>\n",
       "      <td>25030209</td>\n",
       "    </tr>\n",
       "    <tr>\n",
       "      <th>2</th>\n",
       "      <td>24954272</td>\n",
       "    </tr>\n",
       "    <tr>\n",
       "      <th>3</th>\n",
       "      <td>24965178</td>\n",
       "    </tr>\n",
       "    <tr>\n",
       "      <th>4</th>\n",
       "      <td>25008197</td>\n",
       "    </tr>\n",
       "    <tr>\n",
       "      <th>...</th>\n",
       "      <td>...</td>\n",
       "    </tr>\n",
       "    <tr>\n",
       "      <th>495</th>\n",
       "      <td>24962029</td>\n",
       "    </tr>\n",
       "    <tr>\n",
       "      <th>496</th>\n",
       "      <td>24983176</td>\n",
       "    </tr>\n",
       "    <tr>\n",
       "      <th>497</th>\n",
       "      <td>24977330</td>\n",
       "    </tr>\n",
       "    <tr>\n",
       "      <th>498</th>\n",
       "      <td>24924433</td>\n",
       "    </tr>\n",
       "    <tr>\n",
       "      <th>499</th>\n",
       "      <td>25115242</td>\n",
       "    </tr>\n",
       "  </tbody>\n",
       "</table>\n",
       "<p>500 rows × 1 columns</p>\n",
       "</div>"
      ],
      "text/plain": [
       "     reaction_speed(in_ms)_tot\n",
       "0                     25056321\n",
       "1                     25030209\n",
       "2                     24954272\n",
       "3                     24965178\n",
       "4                     25008197\n",
       "..                         ...\n",
       "495                   24962029\n",
       "496                   24983176\n",
       "497                   24977330\n",
       "498                   24924433\n",
       "499                   25115242\n",
       "\n",
       "[500 rows x 1 columns]"
      ]
     },
     "execution_count": 3,
     "metadata": {},
     "output_type": "execute_result"
    }
   ],
   "source": [
    "df_nd"
   ]
  },
  {
   "cell_type": "code",
   "execution_count": 4,
   "metadata": {},
   "outputs": [
    {
     "data": {
      "text/plain": [
       "(array([60., 40., 51., 58., 45., 42., 51., 49., 69., 56., 59., 51., 45.,\n",
       "        52., 45., 35., 43., 50., 45., 43., 40., 58., 44., 55., 52., 53.,\n",
       "        46., 45., 52., 54., 42., 52., 53., 52., 46., 45., 43., 47., 44.,\n",
       "        51., 53., 54., 63., 58., 55., 41., 51., 48., 57., 48., 50., 68.,\n",
       "        53., 57., 54., 51., 51., 54., 46., 44., 49., 45., 59., 51., 59.,\n",
       "        49., 46., 46., 46., 53., 47., 58., 48., 52., 47., 54., 49., 42.,\n",
       "        48., 71., 47., 53., 54., 52., 42., 44., 48., 57., 52., 46., 47.,\n",
       "        51., 44., 44., 58., 44., 49., 52., 44., 34., 48., 44., 54., 62.,\n",
       "        50., 64., 45., 48., 48., 48., 48., 49., 66., 42., 64., 43., 60.,\n",
       "        39., 46., 46., 47., 58., 52., 57., 57., 42., 44., 49., 48., 52.,\n",
       "        54., 45., 49., 44., 39., 46., 52., 51., 56., 62., 54., 60., 53.,\n",
       "        44., 43., 57., 59., 57., 45., 51., 72., 29., 69., 52., 58., 56.,\n",
       "        58., 64., 48., 57., 50., 50., 58., 46., 53., 42., 39., 40., 43.,\n",
       "        57., 45., 37., 41., 38., 34., 60., 40., 39., 51., 43., 60., 49.,\n",
       "        49., 57., 46., 45., 47., 56., 44., 50., 42., 60., 58., 42., 54.,\n",
       "        48., 44., 53., 66., 50., 46., 57., 43., 51., 43., 51., 45., 48.,\n",
       "        60., 50., 55., 45., 39., 51., 41., 58., 56., 51., 40., 55., 49.,\n",
       "        46., 44., 59., 43., 59., 49., 46., 40., 48., 50., 63., 44., 44.,\n",
       "        31., 46., 46., 45., 49., 52., 51., 60., 42., 40., 42., 49., 45.,\n",
       "        45., 36., 43., 47., 53., 43., 39., 52., 44., 58., 49., 44., 41.,\n",
       "        50., 43., 60., 51., 62., 44., 47., 67., 42., 52., 39., 47., 42.,\n",
       "        60., 54., 51., 55., 56., 50., 61., 55., 48., 48., 50., 53., 50.,\n",
       "        43., 50., 42., 52., 57., 44., 56., 37., 62., 54., 43., 47., 59.,\n",
       "        50., 53., 58., 48., 62., 41., 46., 48., 48., 54., 43., 42., 55.,\n",
       "        49., 57., 58., 51., 44., 50., 56., 63., 46., 64., 62., 62., 48.,\n",
       "        59., 57., 47., 47., 58., 50., 45., 41., 47., 43., 50., 49., 58.,\n",
       "        49., 42., 51., 40., 46., 40., 53., 56., 50., 60., 52., 61., 31.,\n",
       "        53., 59., 49., 48., 57., 50., 39., 47., 50., 65., 51., 48., 43.,\n",
       "        41., 50., 41., 41., 64., 53., 47., 50., 54., 45., 41., 47., 44.,\n",
       "        47., 41., 51., 57., 55., 45., 54., 49., 34., 48., 58., 42., 41.,\n",
       "        44., 53., 62., 47., 47., 50., 44., 53., 58., 51., 48., 47., 66.,\n",
       "        37., 48., 43., 44., 53., 50., 42., 43., 55., 48., 57., 41., 60.,\n",
       "        56., 42., 48., 50., 49., 58., 47., 43., 53., 55., 51., 45., 45.,\n",
       "        64., 40., 46., 44., 39., 52., 43., 34., 67., 47., 52., 53., 38.,\n",
       "        54., 58., 60., 49., 49., 35., 59., 42., 43., 34., 57., 44., 56.,\n",
       "        54., 46., 52., 49., 53., 38., 57., 51., 50., 52., 51., 66., 47.,\n",
       "        49., 48., 40., 47., 52., 58., 38., 54., 57., 44., 39., 59., 45.,\n",
       "        52., 44., 61., 50., 55., 60., 41., 64., 43., 52., 49., 56., 44.,\n",
       "        43., 52., 54., 52., 54., 53., 49., 42., 42., 50., 42., 59., 49.,\n",
       "        53., 55., 52., 42., 47., 55., 61., 47., 43., 50., 34., 40., 42.,\n",
       "        52., 53., 56., 58., 49., 55., 43., 44., 53., 42., 44., 47., 51.,\n",
       "        38., 57., 53., 45., 64., 52., 53., 42., 52., 50., 54., 50., 51.,\n",
       "        55., 50., 47., 56., 42., 35., 50., 42., 57., 46., 43., 38., 39.,\n",
       "        42., 41., 54., 52., 50., 50., 44., 51., 56., 50., 46., 58., 46.,\n",
       "        45., 45., 52., 55., 46., 53., 51., 54., 49., 47., 41., 52., 42.,\n",
       "        44., 51., 45., 49., 61., 36., 68., 44., 66., 44., 66., 53., 63.,\n",
       "        50., 47., 53., 54., 47., 63., 35., 58., 46., 59., 47., 41., 56.,\n",
       "        59., 45., 55., 46., 52., 56., 49., 46., 66., 56., 54., 46., 54.,\n",
       "        53., 37., 54., 45., 33., 52., 48., 54., 45., 51., 44., 45., 57.,\n",
       "        37., 47., 60., 52., 51., 52., 62., 65., 54., 36., 51., 33., 46.,\n",
       "        52., 53., 45., 53., 44., 52., 53., 51., 47., 53., 38., 53., 51.,\n",
       "        61., 37., 53., 55., 53., 43., 48., 53., 49., 51., 54., 51., 50.,\n",
       "        39., 48., 48., 50., 60., 58., 44., 51., 60., 60., 55., 53., 43.,\n",
       "        55., 43., 54., 54., 45., 49., 48., 52., 61., 46., 44., 49., 52.,\n",
       "        58., 50., 51., 48., 53., 42., 55., 46., 53., 58., 40., 51., 45.,\n",
       "        47., 49., 43., 37., 45., 56., 53., 58., 48., 52., 43., 56., 47.,\n",
       "        42., 43., 48., 48., 46., 47., 43., 45., 58., 50., 48., 61., 53.,\n",
       "        44., 52., 57., 47., 60., 61., 62., 45., 52., 31., 43., 57., 47.,\n",
       "        49., 44., 62., 46., 63., 52., 51., 55., 50., 57., 36., 57., 44.,\n",
       "        47., 47., 60., 38., 53., 58., 62., 66., 58., 57., 46., 43., 51.,\n",
       "        46., 71., 47., 50., 65., 37., 51., 61., 55., 51., 49., 48., 56.,\n",
       "        51., 59., 55., 54., 46., 53., 50., 70., 63., 47., 39., 55., 48.,\n",
       "        53., 54., 47., 46., 62., 45., 50., 49., 57., 51., 52., 58., 56.,\n",
       "        56., 54., 45., 53., 46., 45., 43., 57., 41., 44., 52., 68., 50.,\n",
       "        49., 40., 49., 56., 49., 59., 52., 49., 51., 58., 41., 59., 45.,\n",
       "        49., 37., 42., 45., 44., 51., 46., 59., 41., 54., 48., 46., 48.,\n",
       "        60., 59., 56., 62., 48., 54., 60., 57., 62., 54., 53., 51., 44.,\n",
       "        54., 60., 46., 51., 38., 61., 56., 48., 49., 53., 36., 45., 45.,\n",
       "        45., 40., 56., 59., 54., 65., 46., 60., 56., 52., 37., 53., 34.,\n",
       "        43., 46., 65., 47., 45., 61., 40., 58., 47., 58., 48., 40., 47.,\n",
       "        47., 49., 45., 54., 38., 46., 57., 46., 58., 43., 65., 41., 54.,\n",
       "        57., 54., 48., 44., 35., 50., 49., 51., 44., 44., 69., 62., 44.,\n",
       "        48., 49., 57., 50., 47., 52., 47., 42., 50., 52., 50., 46., 57.,\n",
       "        37., 45., 53., 54., 40., 46., 58., 44., 51., 54., 56., 49., 53.,\n",
       "        47., 54., 68., 55., 53., 53., 46., 52., 49., 60., 48., 49., 59.,\n",
       "        26., 48., 51., 51., 44., 40., 58., 40., 52., 50., 45., 49., 59.,\n",
       "        55., 52., 39., 46., 42., 44., 51., 47., 43., 56., 55., 83.]),\n",
       " array([   0.,    1.,    2., ...,  998.,  999., 1000.]),\n",
       " <BarContainer object of 1000 artists>)"
      ]
     },
     "execution_count": 4,
     "metadata": {},
     "output_type": "execute_result"
    },
    {
     "data": {
      "image/png": "[encoded data removed]",
      "text/plain": [
       "<Figure size 640x480 with 1 Axes>"
      ]
     },
     "metadata": {},
     "output_type": "display_data"
    }
   ],
   "source": [
    "plt.hist(x= dfm_RS, bins = 1000)"
   ]
  },
  {
   "cell_type": "markdown",
   "metadata": {},
   "source": [
    "Find out if the Deviation is Significant"
   ]
  },
  {
   "cell_type": "markdown",
   "metadata": {},
   "source": [
    "thats weird"
   ]
  },
  {
   "cell_type": "markdown",
   "metadata": {},
   "source": []
  },
  {
   "cell_type": "code",
   "execution_count": 5,
   "metadata": {},
   "outputs": [
    {
     "data": {
      "text/plain": [
       "<Axes: ylabel='Count'>"
      ]
     },
     "execution_count": 5,
     "metadata": {},
     "output_type": "execute_result"
    },
    {
     "data": {
      "image/png": "[encoded data removed]",
      "text/plain": [
       "<Figure size 640x480 with 1 Axes>"
      ]
     },
     "metadata": {},
     "output_type": "display_data"
    }
   ],
   "source": [
    "sns.histplot(df_nd)"
   ]
  },
  {
   "cell_type": "code",
   "execution_count": 6,
   "metadata": {},
   "outputs": [
    {
     "data": {
      "text/plain": [
       "25049156"
      ]
     },
     "execution_count": 6,
     "metadata": {},
     "output_type": "execute_result"
    }
   ],
   "source": [
    "dfm_RS.sum()"
   ]
  }
 ],
 "metadata": {
  "kernelspec": {
   "display_name": "Python 3",
   "language": "python",
   "name": "python3"
  },
  "language_info": {
   "codemirror_mode": {
    "name": "ipython",
    "version": 3
   },
   "file_extension": ".py",
   "mimetype": "text/x-python",
   "name": "python",
   "nbconvert_exporter": "python",
   "pygments_lexer": "ipython3",
   "version": "3.12.1"
  }
 },
 "nbformat": 4,
 "nbformat_minor": 2
}
